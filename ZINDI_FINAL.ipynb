{
  "nbformat": 4,
  "nbformat_minor": 0,
  "metadata": {
    "colab": {
      "name": "ZINDI FINAL",
      "provenance": [],
      "collapsed_sections": [],
      "authorship_tag": "ABX9TyMshwD35CNAoed5mBWoRd8w",
      "include_colab_link": true
    },
    "kernelspec": {
      "name": "python3",
      "display_name": "Python 3"
    }
  },
  "cells": [
    {
      "cell_type": "markdown",
      "metadata": {
        "id": "view-in-github",
        "colab_type": "text"
      },
      "source": [
        "<a href=\"https://colab.research.google.com/github/shaheen101/myPackage/blob/master/ZINDI_FINAL.ipynb\" target=\"_parent\"><img src=\"https://colab.research.google.com/assets/colab-badge.svg\" alt=\"Open In Colab\"/></a>"
      ]
    },
    {
      "cell_type": "code",
      "metadata": {
        "id": "v1SpvvNmpdy7",
        "colab_type": "code",
        "colab": {
          "base_uri": "https://localhost:8080/",
          "height": 72
        },
        "outputId": "6e2ae837-96ab-4a98-8e9c-bf9320950f73"
      },
      "source": [
        "import pandas as pd\n",
        "import numpy as np\n",
        "import datetime as dt\n",
        "import matplotlib.pyplot as plt\n",
        "%matplotlib inline\n",
        "import seaborn as sns\n",
        "\n",
        "import warnings\n",
        "warnings.filterwarnings('ignore')\n",
        "\n",
        "from sklearn.preprocessing import LabelEncoder\n",
        "from sklearn.model_selection import train_test_split, KFold\n",
        "from sklearn.model_selection import GridSearchCV\n",
        "from sklearn.model_selection import cross_val_score, learning_curve\n",
        "from sklearn.metrics import mean_squared_error\n",
        "import sklearn.metrics as metrics\n",
        "from sklearn.svm import SVR\n",
        "import lightgbm as lgb\n",
        "\n",
        "from sklearn.ensemble import ExtraTreesRegressor, RandomForestRegressor, GradientBoostingRegressor\n",
        "from sklearn.linear_model import LinearRegression\n",
        "import lightgbm as lgbm\n",
        "\n",
        "sns.set(style='white', context='notebook', palette='deep')"
      ],
      "execution_count": 13,
      "outputs": [
        {
          "output_type": "stream",
          "text": [
            "/usr/local/lib/python3.6/dist-packages/statsmodels/tools/_testing.py:19: FutureWarning: pandas.util.testing is deprecated. Use the functions in the public API at pandas.testing instead.\n",
            "  import pandas.util.testing as tm\n"
          ],
          "name": "stderr"
        }
      ]
    },
    {
      "cell_type": "code",
      "metadata": {
        "id": "_8JEe8XLqEX3",
        "colab_type": "code",
        "colab": {
          "base_uri": "https://localhost:8080/",
          "height": 413
        },
        "outputId": "6308cf1c-a313-4465-995e-013e30711995"
      },
      "source": [
        "from google.colab import files\n",
        "import io\n",
        "Train_df= pd.read_csv(io.BytesIO(uploaded['Train.csv']))\n",
        "Train_df.head()\n",
        "\n"
      ],
      "execution_count": 17,
      "outputs": [
        {
          "output_type": "execute_result",
          "data": {
            "text/html": [
              "<div>\n",
              "<style scoped>\n",
              "    .dataframe tbody tr th:only-of-type {\n",
              "        vertical-align: middle;\n",
              "    }\n",
              "\n",
              "    .dataframe tbody tr th {\n",
              "        vertical-align: top;\n",
              "    }\n",
              "\n",
              "    .dataframe thead th {\n",
              "        text-align: right;\n",
              "    }\n",
              "</style>\n",
              "<table border=\"1\" class=\"dataframe\">\n",
              "  <thead>\n",
              "    <tr style=\"text-align: right;\">\n",
              "      <th></th>\n",
              "      <th>Order No</th>\n",
              "      <th>User Id</th>\n",
              "      <th>Vehicle Type</th>\n",
              "      <th>Platform Type</th>\n",
              "      <th>Personal or Business</th>\n",
              "      <th>Placement - Day of Month</th>\n",
              "      <th>Placement - Weekday (Mo = 1)</th>\n",
              "      <th>Placement - Time</th>\n",
              "      <th>Confirmation - Day of Month</th>\n",
              "      <th>Confirmation - Weekday (Mo = 1)</th>\n",
              "      <th>Confirmation - Time</th>\n",
              "      <th>Arrival at Pickup - Day of Month</th>\n",
              "      <th>Arrival at Pickup - Weekday (Mo = 1)</th>\n",
              "      <th>Arrival at Pickup - Time</th>\n",
              "      <th>Pickup - Day of Month</th>\n",
              "      <th>Pickup - Weekday (Mo = 1)</th>\n",
              "      <th>Pickup - Time</th>\n",
              "      <th>Arrival at Destination - Day of Month</th>\n",
              "      <th>Arrival at Destination - Weekday (Mo = 1)</th>\n",
              "      <th>Arrival at Destination - Time</th>\n",
              "      <th>Distance (KM)</th>\n",
              "      <th>Temperature</th>\n",
              "      <th>Precipitation in millimeters</th>\n",
              "      <th>Pickup Lat</th>\n",
              "      <th>Pickup Long</th>\n",
              "      <th>Destination Lat</th>\n",
              "      <th>Destination Long</th>\n",
              "      <th>Rider Id</th>\n",
              "      <th>Time from Pickup to Arrival</th>\n",
              "    </tr>\n",
              "  </thead>\n",
              "  <tbody>\n",
              "    <tr>\n",
              "      <th>0</th>\n",
              "      <td>Order_No_4211</td>\n",
              "      <td>User_Id_633</td>\n",
              "      <td>Bike</td>\n",
              "      <td>3</td>\n",
              "      <td>Business</td>\n",
              "      <td>9</td>\n",
              "      <td>5</td>\n",
              "      <td>9:35:46 AM</td>\n",
              "      <td>9</td>\n",
              "      <td>5</td>\n",
              "      <td>9:40:10 AM</td>\n",
              "      <td>9</td>\n",
              "      <td>5</td>\n",
              "      <td>10:04:47 AM</td>\n",
              "      <td>9</td>\n",
              "      <td>5</td>\n",
              "      <td>10:27:30 AM</td>\n",
              "      <td>9</td>\n",
              "      <td>5</td>\n",
              "      <td>10:39:55 AM</td>\n",
              "      <td>4</td>\n",
              "      <td>20.4</td>\n",
              "      <td>NaN</td>\n",
              "      <td>-1.317755</td>\n",
              "      <td>36.830370</td>\n",
              "      <td>-1.300406</td>\n",
              "      <td>36.829741</td>\n",
              "      <td>Rider_Id_432</td>\n",
              "      <td>745</td>\n",
              "    </tr>\n",
              "    <tr>\n",
              "      <th>1</th>\n",
              "      <td>Order_No_25375</td>\n",
              "      <td>User_Id_2285</td>\n",
              "      <td>Bike</td>\n",
              "      <td>3</td>\n",
              "      <td>Personal</td>\n",
              "      <td>12</td>\n",
              "      <td>5</td>\n",
              "      <td>11:16:16 AM</td>\n",
              "      <td>12</td>\n",
              "      <td>5</td>\n",
              "      <td>11:23:21 AM</td>\n",
              "      <td>12</td>\n",
              "      <td>5</td>\n",
              "      <td>11:40:22 AM</td>\n",
              "      <td>12</td>\n",
              "      <td>5</td>\n",
              "      <td>11:44:09 AM</td>\n",
              "      <td>12</td>\n",
              "      <td>5</td>\n",
              "      <td>12:17:22 PM</td>\n",
              "      <td>16</td>\n",
              "      <td>26.4</td>\n",
              "      <td>NaN</td>\n",
              "      <td>-1.351453</td>\n",
              "      <td>36.899315</td>\n",
              "      <td>-1.295004</td>\n",
              "      <td>36.814358</td>\n",
              "      <td>Rider_Id_856</td>\n",
              "      <td>1993</td>\n",
              "    </tr>\n",
              "    <tr>\n",
              "      <th>2</th>\n",
              "      <td>Order_No_1899</td>\n",
              "      <td>User_Id_265</td>\n",
              "      <td>Bike</td>\n",
              "      <td>3</td>\n",
              "      <td>Business</td>\n",
              "      <td>30</td>\n",
              "      <td>2</td>\n",
              "      <td>12:39:25 PM</td>\n",
              "      <td>30</td>\n",
              "      <td>2</td>\n",
              "      <td>12:42:44 PM</td>\n",
              "      <td>30</td>\n",
              "      <td>2</td>\n",
              "      <td>12:49:34 PM</td>\n",
              "      <td>30</td>\n",
              "      <td>2</td>\n",
              "      <td>12:53:03 PM</td>\n",
              "      <td>30</td>\n",
              "      <td>2</td>\n",
              "      <td>1:00:38 PM</td>\n",
              "      <td>3</td>\n",
              "      <td>NaN</td>\n",
              "      <td>NaN</td>\n",
              "      <td>-1.308284</td>\n",
              "      <td>36.843419</td>\n",
              "      <td>-1.300921</td>\n",
              "      <td>36.828195</td>\n",
              "      <td>Rider_Id_155</td>\n",
              "      <td>455</td>\n",
              "    </tr>\n",
              "    <tr>\n",
              "      <th>3</th>\n",
              "      <td>Order_No_9336</td>\n",
              "      <td>User_Id_1402</td>\n",
              "      <td>Bike</td>\n",
              "      <td>3</td>\n",
              "      <td>Business</td>\n",
              "      <td>15</td>\n",
              "      <td>5</td>\n",
              "      <td>9:25:34 AM</td>\n",
              "      <td>15</td>\n",
              "      <td>5</td>\n",
              "      <td>9:26:05 AM</td>\n",
              "      <td>15</td>\n",
              "      <td>5</td>\n",
              "      <td>9:37:56 AM</td>\n",
              "      <td>15</td>\n",
              "      <td>5</td>\n",
              "      <td>9:43:06 AM</td>\n",
              "      <td>15</td>\n",
              "      <td>5</td>\n",
              "      <td>10:05:27 AM</td>\n",
              "      <td>9</td>\n",
              "      <td>19.2</td>\n",
              "      <td>NaN</td>\n",
              "      <td>-1.281301</td>\n",
              "      <td>36.832396</td>\n",
              "      <td>-1.257147</td>\n",
              "      <td>36.795063</td>\n",
              "      <td>Rider_Id_855</td>\n",
              "      <td>1341</td>\n",
              "    </tr>\n",
              "    <tr>\n",
              "      <th>4</th>\n",
              "      <td>Order_No_27883</td>\n",
              "      <td>User_Id_1737</td>\n",
              "      <td>Bike</td>\n",
              "      <td>1</td>\n",
              "      <td>Personal</td>\n",
              "      <td>13</td>\n",
              "      <td>1</td>\n",
              "      <td>9:55:18 AM</td>\n",
              "      <td>13</td>\n",
              "      <td>1</td>\n",
              "      <td>9:56:18 AM</td>\n",
              "      <td>13</td>\n",
              "      <td>1</td>\n",
              "      <td>10:03:53 AM</td>\n",
              "      <td>13</td>\n",
              "      <td>1</td>\n",
              "      <td>10:05:23 AM</td>\n",
              "      <td>13</td>\n",
              "      <td>1</td>\n",
              "      <td>10:25:37 AM</td>\n",
              "      <td>9</td>\n",
              "      <td>15.4</td>\n",
              "      <td>NaN</td>\n",
              "      <td>-1.266597</td>\n",
              "      <td>36.792118</td>\n",
              "      <td>-1.295041</td>\n",
              "      <td>36.809817</td>\n",
              "      <td>Rider_Id_770</td>\n",
              "      <td>1214</td>\n",
              "    </tr>\n",
              "  </tbody>\n",
              "</table>\n",
              "</div>"
            ],
            "text/plain": [
              "         Order No       User Id  ...      Rider Id  Time from Pickup to Arrival\n",
              "0   Order_No_4211   User_Id_633  ...  Rider_Id_432                          745\n",
              "1  Order_No_25375  User_Id_2285  ...  Rider_Id_856                         1993\n",
              "2   Order_No_1899   User_Id_265  ...  Rider_Id_155                          455\n",
              "3   Order_No_9336  User_Id_1402  ...  Rider_Id_855                         1341\n",
              "4  Order_No_27883  User_Id_1737  ...  Rider_Id_770                         1214\n",
              "\n",
              "[5 rows x 29 columns]"
            ]
          },
          "metadata": {
            "tags": []
          },
          "execution_count": 17
        }
      ]
    },
    {
      "cell_type": "code",
      "metadata": {
        "id": "y22g17iQsDHw",
        "colab_type": "code",
        "colab": {
          "base_uri": "https://localhost:8080/",
          "height": 413
        },
        "outputId": "94fd58c0-d18d-479c-8b50-bf537f88d348"
      },
      "source": [
        "Test_df = pd.read_csv(io.BytesIO(uploaded['Test.csv']))\n",
        "Test_df.head()"
      ],
      "execution_count": 20,
      "outputs": [
        {
          "output_type": "execute_result",
          "data": {
            "text/html": [
              "<div>\n",
              "<style scoped>\n",
              "    .dataframe tbody tr th:only-of-type {\n",
              "        vertical-align: middle;\n",
              "    }\n",
              "\n",
              "    .dataframe tbody tr th {\n",
              "        vertical-align: top;\n",
              "    }\n",
              "\n",
              "    .dataframe thead th {\n",
              "        text-align: right;\n",
              "    }\n",
              "</style>\n",
              "<table border=\"1\" class=\"dataframe\">\n",
              "  <thead>\n",
              "    <tr style=\"text-align: right;\">\n",
              "      <th></th>\n",
              "      <th>Order No</th>\n",
              "      <th>User Id</th>\n",
              "      <th>Vehicle Type</th>\n",
              "      <th>Platform Type</th>\n",
              "      <th>Personal or Business</th>\n",
              "      <th>Placement - Day of Month</th>\n",
              "      <th>Placement - Weekday (Mo = 1)</th>\n",
              "      <th>Placement - Time</th>\n",
              "      <th>Confirmation - Day of Month</th>\n",
              "      <th>Confirmation - Weekday (Mo = 1)</th>\n",
              "      <th>Confirmation - Time</th>\n",
              "      <th>Arrival at Pickup - Day of Month</th>\n",
              "      <th>Arrival at Pickup - Weekday (Mo = 1)</th>\n",
              "      <th>Arrival at Pickup - Time</th>\n",
              "      <th>Pickup - Day of Month</th>\n",
              "      <th>Pickup - Weekday (Mo = 1)</th>\n",
              "      <th>Pickup - Time</th>\n",
              "      <th>Distance (KM)</th>\n",
              "      <th>Temperature</th>\n",
              "      <th>Precipitation in millimeters</th>\n",
              "      <th>Pickup Lat</th>\n",
              "      <th>Pickup Long</th>\n",
              "      <th>Destination Lat</th>\n",
              "      <th>Destination Long</th>\n",
              "      <th>Rider Id</th>\n",
              "    </tr>\n",
              "  </thead>\n",
              "  <tbody>\n",
              "    <tr>\n",
              "      <th>0</th>\n",
              "      <td>Order_No_19248</td>\n",
              "      <td>User_Id_3355</td>\n",
              "      <td>Bike</td>\n",
              "      <td>3</td>\n",
              "      <td>Business</td>\n",
              "      <td>27</td>\n",
              "      <td>3</td>\n",
              "      <td>4:44:10 PM</td>\n",
              "      <td>27</td>\n",
              "      <td>3</td>\n",
              "      <td>4:44:29 PM</td>\n",
              "      <td>27</td>\n",
              "      <td>3</td>\n",
              "      <td>4:53:04 PM</td>\n",
              "      <td>27</td>\n",
              "      <td>3</td>\n",
              "      <td>5:06:47 PM</td>\n",
              "      <td>8</td>\n",
              "      <td>NaN</td>\n",
              "      <td>NaN</td>\n",
              "      <td>-1.333275</td>\n",
              "      <td>36.870815</td>\n",
              "      <td>-1.305249</td>\n",
              "      <td>36.822390</td>\n",
              "      <td>Rider_Id_192</td>\n",
              "    </tr>\n",
              "    <tr>\n",
              "      <th>1</th>\n",
              "      <td>Order_No_12736</td>\n",
              "      <td>User_Id_3647</td>\n",
              "      <td>Bike</td>\n",
              "      <td>3</td>\n",
              "      <td>Business</td>\n",
              "      <td>17</td>\n",
              "      <td>5</td>\n",
              "      <td>12:57:35 PM</td>\n",
              "      <td>17</td>\n",
              "      <td>5</td>\n",
              "      <td>12:59:17 PM</td>\n",
              "      <td>17</td>\n",
              "      <td>5</td>\n",
              "      <td>1:20:27 PM</td>\n",
              "      <td>17</td>\n",
              "      <td>5</td>\n",
              "      <td>1:25:37 PM</td>\n",
              "      <td>5</td>\n",
              "      <td>NaN</td>\n",
              "      <td>NaN</td>\n",
              "      <td>-1.272639</td>\n",
              "      <td>36.794723</td>\n",
              "      <td>-1.277007</td>\n",
              "      <td>36.823907</td>\n",
              "      <td>Rider_Id_868</td>\n",
              "    </tr>\n",
              "    <tr>\n",
              "      <th>2</th>\n",
              "      <td>Order_No_768</td>\n",
              "      <td>User_Id_2154</td>\n",
              "      <td>Bike</td>\n",
              "      <td>3</td>\n",
              "      <td>Business</td>\n",
              "      <td>27</td>\n",
              "      <td>4</td>\n",
              "      <td>11:08:14 AM</td>\n",
              "      <td>27</td>\n",
              "      <td>4</td>\n",
              "      <td>11:25:05 AM</td>\n",
              "      <td>27</td>\n",
              "      <td>4</td>\n",
              "      <td>11:33:20 AM</td>\n",
              "      <td>27</td>\n",
              "      <td>4</td>\n",
              "      <td>11:57:54 AM</td>\n",
              "      <td>5</td>\n",
              "      <td>22.8</td>\n",
              "      <td>NaN</td>\n",
              "      <td>-1.290894</td>\n",
              "      <td>36.822971</td>\n",
              "      <td>-1.276574</td>\n",
              "      <td>36.851365</td>\n",
              "      <td>Rider_Id_26</td>\n",
              "    </tr>\n",
              "    <tr>\n",
              "      <th>3</th>\n",
              "      <td>Order_No_15332</td>\n",
              "      <td>User_Id_2910</td>\n",
              "      <td>Bike</td>\n",
              "      <td>3</td>\n",
              "      <td>Business</td>\n",
              "      <td>17</td>\n",
              "      <td>1</td>\n",
              "      <td>1:51:35 PM</td>\n",
              "      <td>17</td>\n",
              "      <td>1</td>\n",
              "      <td>1:53:27 PM</td>\n",
              "      <td>17</td>\n",
              "      <td>1</td>\n",
              "      <td>2:02:41 PM</td>\n",
              "      <td>17</td>\n",
              "      <td>1</td>\n",
              "      <td>2:16:52 PM</td>\n",
              "      <td>5</td>\n",
              "      <td>24.5</td>\n",
              "      <td>NaN</td>\n",
              "      <td>-1.290503</td>\n",
              "      <td>36.809646</td>\n",
              "      <td>-1.303382</td>\n",
              "      <td>36.790658</td>\n",
              "      <td>Rider_Id_685</td>\n",
              "    </tr>\n",
              "    <tr>\n",
              "      <th>4</th>\n",
              "      <td>Order_No_21373</td>\n",
              "      <td>User_Id_1205</td>\n",
              "      <td>Bike</td>\n",
              "      <td>3</td>\n",
              "      <td>Business</td>\n",
              "      <td>11</td>\n",
              "      <td>2</td>\n",
              "      <td>11:30:28 AM</td>\n",
              "      <td>11</td>\n",
              "      <td>2</td>\n",
              "      <td>11:34:45 AM</td>\n",
              "      <td>11</td>\n",
              "      <td>2</td>\n",
              "      <td>11:47:19 AM</td>\n",
              "      <td>11</td>\n",
              "      <td>2</td>\n",
              "      <td>11:56:04 AM</td>\n",
              "      <td>6</td>\n",
              "      <td>24.4</td>\n",
              "      <td>NaN</td>\n",
              "      <td>-1.281081</td>\n",
              "      <td>36.814423</td>\n",
              "      <td>-1.266467</td>\n",
              "      <td>36.792161</td>\n",
              "      <td>Rider_Id_858</td>\n",
              "    </tr>\n",
              "  </tbody>\n",
              "</table>\n",
              "</div>"
            ],
            "text/plain": [
              "         Order No       User Id  ... Destination Long      Rider Id\n",
              "0  Order_No_19248  User_Id_3355  ...        36.822390  Rider_Id_192\n",
              "1  Order_No_12736  User_Id_3647  ...        36.823907  Rider_Id_868\n",
              "2    Order_No_768  User_Id_2154  ...        36.851365   Rider_Id_26\n",
              "3  Order_No_15332  User_Id_2910  ...        36.790658  Rider_Id_685\n",
              "4  Order_No_21373  User_Id_1205  ...        36.792161  Rider_Id_858\n",
              "\n",
              "[5 rows x 25 columns]"
            ]
          },
          "metadata": {
            "tags": []
          },
          "execution_count": 20
        }
      ]
    },
    {
      "cell_type": "code",
      "metadata": {
        "id": "JdDznDCIsz4Q",
        "colab_type": "code",
        "colab": {
          "base_uri": "https://localhost:8080/",
          "height": 202
        },
        "outputId": "52a32117-e3e6-4772-98b1-b1063a2f84eb"
      },
      "source": [
        "Rider_df = pd.read_csv(io.BytesIO(uploaded['Riders.csv']))\n",
        "Rider_df.head()\n"
      ],
      "execution_count": 22,
      "outputs": [
        {
          "output_type": "execute_result",
          "data": {
            "text/html": [
              "<div>\n",
              "<style scoped>\n",
              "    .dataframe tbody tr th:only-of-type {\n",
              "        vertical-align: middle;\n",
              "    }\n",
              "\n",
              "    .dataframe tbody tr th {\n",
              "        vertical-align: top;\n",
              "    }\n",
              "\n",
              "    .dataframe thead th {\n",
              "        text-align: right;\n",
              "    }\n",
              "</style>\n",
              "<table border=\"1\" class=\"dataframe\">\n",
              "  <thead>\n",
              "    <tr style=\"text-align: right;\">\n",
              "      <th></th>\n",
              "      <th>Rider Id</th>\n",
              "      <th>No_Of_Orders</th>\n",
              "      <th>Age</th>\n",
              "      <th>Average_Rating</th>\n",
              "      <th>No_of_Ratings</th>\n",
              "    </tr>\n",
              "  </thead>\n",
              "  <tbody>\n",
              "    <tr>\n",
              "      <th>0</th>\n",
              "      <td>Rider_Id_396</td>\n",
              "      <td>2946</td>\n",
              "      <td>2298</td>\n",
              "      <td>14.0</td>\n",
              "      <td>1159</td>\n",
              "    </tr>\n",
              "    <tr>\n",
              "      <th>1</th>\n",
              "      <td>Rider_Id_479</td>\n",
              "      <td>360</td>\n",
              "      <td>951</td>\n",
              "      <td>13.5</td>\n",
              "      <td>176</td>\n",
              "    </tr>\n",
              "    <tr>\n",
              "      <th>2</th>\n",
              "      <td>Rider_Id_648</td>\n",
              "      <td>1746</td>\n",
              "      <td>821</td>\n",
              "      <td>14.3</td>\n",
              "      <td>466</td>\n",
              "    </tr>\n",
              "    <tr>\n",
              "      <th>3</th>\n",
              "      <td>Rider_Id_753</td>\n",
              "      <td>314</td>\n",
              "      <td>980</td>\n",
              "      <td>12.5</td>\n",
              "      <td>75</td>\n",
              "    </tr>\n",
              "    <tr>\n",
              "      <th>4</th>\n",
              "      <td>Rider_Id_335</td>\n",
              "      <td>536</td>\n",
              "      <td>1113</td>\n",
              "      <td>13.7</td>\n",
              "      <td>156</td>\n",
              "    </tr>\n",
              "  </tbody>\n",
              "</table>\n",
              "</div>"
            ],
            "text/plain": [
              "       Rider Id  No_Of_Orders   Age  Average_Rating  No_of_Ratings\n",
              "0  Rider_Id_396          2946  2298            14.0           1159\n",
              "1  Rider_Id_479           360   951            13.5            176\n",
              "2  Rider_Id_648          1746   821            14.3            466\n",
              "3  Rider_Id_753           314   980            12.5             75\n",
              "4  Rider_Id_335           536  1113            13.7            156"
            ]
          },
          "metadata": {
            "tags": []
          },
          "execution_count": 22
        }
      ]
    },
    {
      "cell_type": "code",
      "metadata": {
        "id": "pECxVBoVuJp6",
        "colab_type": "code",
        "colab": {
          "base_uri": "https://localhost:8080/",
          "height": 430
        },
        "outputId": "88da7ee7-8d2d-40cc-a649-d687e1a222aa"
      },
      "source": [
        "print(Train_df.shape, Test_df.shape, Rider_df.shape)\n",
        "Train_df.head()"
      ],
      "execution_count": 23,
      "outputs": [
        {
          "output_type": "stream",
          "text": [
            "(21201, 29) (7068, 25) (960, 5)\n"
          ],
          "name": "stdout"
        },
        {
          "output_type": "execute_result",
          "data": {
            "text/html": [
              "<div>\n",
              "<style scoped>\n",
              "    .dataframe tbody tr th:only-of-type {\n",
              "        vertical-align: middle;\n",
              "    }\n",
              "\n",
              "    .dataframe tbody tr th {\n",
              "        vertical-align: top;\n",
              "    }\n",
              "\n",
              "    .dataframe thead th {\n",
              "        text-align: right;\n",
              "    }\n",
              "</style>\n",
              "<table border=\"1\" class=\"dataframe\">\n",
              "  <thead>\n",
              "    <tr style=\"text-align: right;\">\n",
              "      <th></th>\n",
              "      <th>Order No</th>\n",
              "      <th>User Id</th>\n",
              "      <th>Vehicle Type</th>\n",
              "      <th>Platform Type</th>\n",
              "      <th>Personal or Business</th>\n",
              "      <th>Placement - Day of Month</th>\n",
              "      <th>Placement - Weekday (Mo = 1)</th>\n",
              "      <th>Placement - Time</th>\n",
              "      <th>Confirmation - Day of Month</th>\n",
              "      <th>Confirmation - Weekday (Mo = 1)</th>\n",
              "      <th>Confirmation - Time</th>\n",
              "      <th>Arrival at Pickup - Day of Month</th>\n",
              "      <th>Arrival at Pickup - Weekday (Mo = 1)</th>\n",
              "      <th>Arrival at Pickup - Time</th>\n",
              "      <th>Pickup - Day of Month</th>\n",
              "      <th>Pickup - Weekday (Mo = 1)</th>\n",
              "      <th>Pickup - Time</th>\n",
              "      <th>Arrival at Destination - Day of Month</th>\n",
              "      <th>Arrival at Destination - Weekday (Mo = 1)</th>\n",
              "      <th>Arrival at Destination - Time</th>\n",
              "      <th>Distance (KM)</th>\n",
              "      <th>Temperature</th>\n",
              "      <th>Precipitation in millimeters</th>\n",
              "      <th>Pickup Lat</th>\n",
              "      <th>Pickup Long</th>\n",
              "      <th>Destination Lat</th>\n",
              "      <th>Destination Long</th>\n",
              "      <th>Rider Id</th>\n",
              "      <th>Time from Pickup to Arrival</th>\n",
              "    </tr>\n",
              "  </thead>\n",
              "  <tbody>\n",
              "    <tr>\n",
              "      <th>0</th>\n",
              "      <td>Order_No_4211</td>\n",
              "      <td>User_Id_633</td>\n",
              "      <td>Bike</td>\n",
              "      <td>3</td>\n",
              "      <td>Business</td>\n",
              "      <td>9</td>\n",
              "      <td>5</td>\n",
              "      <td>9:35:46 AM</td>\n",
              "      <td>9</td>\n",
              "      <td>5</td>\n",
              "      <td>9:40:10 AM</td>\n",
              "      <td>9</td>\n",
              "      <td>5</td>\n",
              "      <td>10:04:47 AM</td>\n",
              "      <td>9</td>\n",
              "      <td>5</td>\n",
              "      <td>10:27:30 AM</td>\n",
              "      <td>9</td>\n",
              "      <td>5</td>\n",
              "      <td>10:39:55 AM</td>\n",
              "      <td>4</td>\n",
              "      <td>20.4</td>\n",
              "      <td>NaN</td>\n",
              "      <td>-1.317755</td>\n",
              "      <td>36.830370</td>\n",
              "      <td>-1.300406</td>\n",
              "      <td>36.829741</td>\n",
              "      <td>Rider_Id_432</td>\n",
              "      <td>745</td>\n",
              "    </tr>\n",
              "    <tr>\n",
              "      <th>1</th>\n",
              "      <td>Order_No_25375</td>\n",
              "      <td>User_Id_2285</td>\n",
              "      <td>Bike</td>\n",
              "      <td>3</td>\n",
              "      <td>Personal</td>\n",
              "      <td>12</td>\n",
              "      <td>5</td>\n",
              "      <td>11:16:16 AM</td>\n",
              "      <td>12</td>\n",
              "      <td>5</td>\n",
              "      <td>11:23:21 AM</td>\n",
              "      <td>12</td>\n",
              "      <td>5</td>\n",
              "      <td>11:40:22 AM</td>\n",
              "      <td>12</td>\n",
              "      <td>5</td>\n",
              "      <td>11:44:09 AM</td>\n",
              "      <td>12</td>\n",
              "      <td>5</td>\n",
              "      <td>12:17:22 PM</td>\n",
              "      <td>16</td>\n",
              "      <td>26.4</td>\n",
              "      <td>NaN</td>\n",
              "      <td>-1.351453</td>\n",
              "      <td>36.899315</td>\n",
              "      <td>-1.295004</td>\n",
              "      <td>36.814358</td>\n",
              "      <td>Rider_Id_856</td>\n",
              "      <td>1993</td>\n",
              "    </tr>\n",
              "    <tr>\n",
              "      <th>2</th>\n",
              "      <td>Order_No_1899</td>\n",
              "      <td>User_Id_265</td>\n",
              "      <td>Bike</td>\n",
              "      <td>3</td>\n",
              "      <td>Business</td>\n",
              "      <td>30</td>\n",
              "      <td>2</td>\n",
              "      <td>12:39:25 PM</td>\n",
              "      <td>30</td>\n",
              "      <td>2</td>\n",
              "      <td>12:42:44 PM</td>\n",
              "      <td>30</td>\n",
              "      <td>2</td>\n",
              "      <td>12:49:34 PM</td>\n",
              "      <td>30</td>\n",
              "      <td>2</td>\n",
              "      <td>12:53:03 PM</td>\n",
              "      <td>30</td>\n",
              "      <td>2</td>\n",
              "      <td>1:00:38 PM</td>\n",
              "      <td>3</td>\n",
              "      <td>NaN</td>\n",
              "      <td>NaN</td>\n",
              "      <td>-1.308284</td>\n",
              "      <td>36.843419</td>\n",
              "      <td>-1.300921</td>\n",
              "      <td>36.828195</td>\n",
              "      <td>Rider_Id_155</td>\n",
              "      <td>455</td>\n",
              "    </tr>\n",
              "    <tr>\n",
              "      <th>3</th>\n",
              "      <td>Order_No_9336</td>\n",
              "      <td>User_Id_1402</td>\n",
              "      <td>Bike</td>\n",
              "      <td>3</td>\n",
              "      <td>Business</td>\n",
              "      <td>15</td>\n",
              "      <td>5</td>\n",
              "      <td>9:25:34 AM</td>\n",
              "      <td>15</td>\n",
              "      <td>5</td>\n",
              "      <td>9:26:05 AM</td>\n",
              "      <td>15</td>\n",
              "      <td>5</td>\n",
              "      <td>9:37:56 AM</td>\n",
              "      <td>15</td>\n",
              "      <td>5</td>\n",
              "      <td>9:43:06 AM</td>\n",
              "      <td>15</td>\n",
              "      <td>5</td>\n",
              "      <td>10:05:27 AM</td>\n",
              "      <td>9</td>\n",
              "      <td>19.2</td>\n",
              "      <td>NaN</td>\n",
              "      <td>-1.281301</td>\n",
              "      <td>36.832396</td>\n",
              "      <td>-1.257147</td>\n",
              "      <td>36.795063</td>\n",
              "      <td>Rider_Id_855</td>\n",
              "      <td>1341</td>\n",
              "    </tr>\n",
              "    <tr>\n",
              "      <th>4</th>\n",
              "      <td>Order_No_27883</td>\n",
              "      <td>User_Id_1737</td>\n",
              "      <td>Bike</td>\n",
              "      <td>1</td>\n",
              "      <td>Personal</td>\n",
              "      <td>13</td>\n",
              "      <td>1</td>\n",
              "      <td>9:55:18 AM</td>\n",
              "      <td>13</td>\n",
              "      <td>1</td>\n",
              "      <td>9:56:18 AM</td>\n",
              "      <td>13</td>\n",
              "      <td>1</td>\n",
              "      <td>10:03:53 AM</td>\n",
              "      <td>13</td>\n",
              "      <td>1</td>\n",
              "      <td>10:05:23 AM</td>\n",
              "      <td>13</td>\n",
              "      <td>1</td>\n",
              "      <td>10:25:37 AM</td>\n",
              "      <td>9</td>\n",
              "      <td>15.4</td>\n",
              "      <td>NaN</td>\n",
              "      <td>-1.266597</td>\n",
              "      <td>36.792118</td>\n",
              "      <td>-1.295041</td>\n",
              "      <td>36.809817</td>\n",
              "      <td>Rider_Id_770</td>\n",
              "      <td>1214</td>\n",
              "    </tr>\n",
              "  </tbody>\n",
              "</table>\n",
              "</div>"
            ],
            "text/plain": [
              "         Order No       User Id  ...      Rider Id  Time from Pickup to Arrival\n",
              "0   Order_No_4211   User_Id_633  ...  Rider_Id_432                          745\n",
              "1  Order_No_25375  User_Id_2285  ...  Rider_Id_856                         1993\n",
              "2   Order_No_1899   User_Id_265  ...  Rider_Id_155                          455\n",
              "3   Order_No_9336  User_Id_1402  ...  Rider_Id_855                         1341\n",
              "4  Order_No_27883  User_Id_1737  ...  Rider_Id_770                         1214\n",
              "\n",
              "[5 rows x 29 columns]"
            ]
          },
          "metadata": {
            "tags": []
          },
          "execution_count": 23
        }
      ]
    },
    {
      "cell_type": "code",
      "metadata": {
        "id": "Nxd0hRr5uqTj",
        "colab_type": "code",
        "colab": {
          "base_uri": "https://localhost:8080/",
          "height": 87
        },
        "outputId": "1ae661f9-f279-449d-965d-5cbb7479ad93"
      },
      "source": [
        "for col in Train_df.columns:\n",
        "    if col not in Test_df.columns:\n",
        "        print(col)"
      ],
      "execution_count": 24,
      "outputs": [
        {
          "output_type": "stream",
          "text": [
            "Arrival at Destination - Day of Month\n",
            "Arrival at Destination - Weekday (Mo = 1)\n",
            "Arrival at Destination - Time\n",
            "Time from Pickup to Arrival\n"
          ],
          "name": "stdout"
        }
      ]
    },
    {
      "cell_type": "code",
      "metadata": {
        "id": "sHbdcIZ9uya1",
        "colab_type": "code",
        "colab": {
          "base_uri": "https://localhost:8080/",
          "height": 35
        },
        "outputId": "2068e4b4-5b66-4053-b599-e34e6863d203"
      },
      "source": [
        "#Checkingtarget variable was calculated\n",
        "\n",
        "labels = pd.to_datetime(Train_df['Arrival at Destination - Time']) - pd.to_datetime(Train_df['Pickup - Time'])\n",
        "list(labels.dt.seconds[:5]), list(Train_df['Time from Pickup to Arrival'][:5])"
      ],
      "execution_count": 25,
      "outputs": [
        {
          "output_type": "execute_result",
          "data": {
            "text/plain": [
              "([745, 1993, 455, 1341, 1214], [745, 1993, 455, 1341, 1214])"
            ]
          },
          "metadata": {
            "tags": []
          },
          "execution_count": 25
        }
      ]
    },
    {
      "cell_type": "code",
      "metadata": {
        "id": "tnNt2ESwu8H8",
        "colab_type": "code",
        "colab": {}
      },
      "source": [
        "#Drop data not available in test, Pickup Time + label = Arrival times\n",
        "\n",
        "\n",
        "Train_df = Train_df.drop(['Arrival at Destination - Day of Month', 'Arrival at Destination - Weekday (Mo = 1)', 'Arrival at Destination - Time'], axis=1)"
      ],
      "execution_count": 26,
      "outputs": []
    },
    {
      "cell_type": "code",
      "metadata": {
        "id": "gtltyvoUvYav",
        "colab_type": "code",
        "colab": {
          "base_uri": "https://localhost:8080/",
          "height": 35
        },
        "outputId": "d5ca9f0b-194b-4104-b023-35486dc9ec1e"
      },
      "source": [
        "#Create (full_df = train + test) \n",
        "border = Train_df.shape[0]\n",
        "Test_df['Time from Pickup to Arrival'] = [np.nan]* Test_df.shape[0]\n",
        "combined_df = pd.concat([Train_df, Test_df], axis=0, ignore_index=True)\n",
        "\n",
        "Train_df.shape, Test_df.shape, combined_df.shape"
      ],
      "execution_count": 29,
      "outputs": [
        {
          "output_type": "execute_result",
          "data": {
            "text/plain": [
              "((21201, 26), (7068, 26), (28269, 26))"
            ]
          },
          "metadata": {
            "tags": []
          },
          "execution_count": 29
        }
      ]
    },
    {
      "cell_type": "code",
      "metadata": {
        "id": "TMCDhQPqvk4o",
        "colab_type": "code",
        "colab": {
          "base_uri": "https://localhost:8080/",
          "height": 589
        },
        "outputId": "3d1c7419-7e06-4eb4-d017-7155bf5f855b"
      },
      "source": [
        "combined_df.info()"
      ],
      "execution_count": 30,
      "outputs": [
        {
          "output_type": "stream",
          "text": [
            "<class 'pandas.core.frame.DataFrame'>\n",
            "RangeIndex: 28269 entries, 0 to 28268\n",
            "Data columns (total 26 columns):\n",
            " #   Column                                Non-Null Count  Dtype  \n",
            "---  ------                                --------------  -----  \n",
            " 0   Order No                              28269 non-null  object \n",
            " 1   User Id                               28269 non-null  object \n",
            " 2   Vehicle Type                          28269 non-null  object \n",
            " 3   Platform Type                         28269 non-null  int64  \n",
            " 4   Personal or Business                  28269 non-null  object \n",
            " 5   Placement - Day of Month              28269 non-null  int64  \n",
            " 6   Placement - Weekday (Mo = 1)          28269 non-null  int64  \n",
            " 7   Placement - Time                      28269 non-null  object \n",
            " 8   Confirmation - Day of Month           28269 non-null  int64  \n",
            " 9   Confirmation - Weekday (Mo = 1)       28269 non-null  int64  \n",
            " 10  Confirmation - Time                   28269 non-null  object \n",
            " 11  Arrival at Pickup - Day of Month      28269 non-null  int64  \n",
            " 12  Arrival at Pickup - Weekday (Mo = 1)  28269 non-null  int64  \n",
            " 13  Arrival at Pickup - Time              28269 non-null  object \n",
            " 14  Pickup - Day of Month                 28269 non-null  int64  \n",
            " 15  Pickup - Weekday (Mo = 1)             28269 non-null  int64  \n",
            " 16  Pickup - Time                         28269 non-null  object \n",
            " 17  Distance (KM)                         28269 non-null  int64  \n",
            " 18  Temperature                           22466 non-null  float64\n",
            " 19  Precipitation in millimeters          751 non-null    float64\n",
            " 20  Pickup Lat                            28269 non-null  float64\n",
            " 21  Pickup Long                           28269 non-null  float64\n",
            " 22  Destination Lat                       28269 non-null  float64\n",
            " 23  Destination Long                      28269 non-null  float64\n",
            " 24  Rider Id                              28269 non-null  object \n",
            " 25  Time from Pickup to Arrival           21201 non-null  float64\n",
            "dtypes: float64(7), int64(10), object(9)\n",
            "memory usage: 5.6+ MB\n"
          ],
          "name": "stdout"
        }
      ]
    },
    {
      "cell_type": "code",
      "metadata": {
        "id": "DmtBqnoovqji",
        "colab_type": "code",
        "colab": {
          "base_uri": "https://localhost:8080/",
          "height": 156
        },
        "outputId": "2ae1c2e7-14a2-4ead-a283-6948fd75f707"
      },
      "source": [
        "#Renaming columns (shorten, remove space, standardize)\n",
        "new_names = {\"Order No\": \"Order_No\", \"User Id\": \"User_Id\", \"Vehicle Type\": \"Vehicle_Type\",\n",
        "    \"Personal or Business\": \"Personal_Business\", \"Placement - Day of Month\": \"Pla_Mon\",\n",
        "    \"Placement - Weekday (Mo = 1)\": \"Pla_Weekday\", \"Placement - Time\": \"Pla_Time\", \n",
        "    \"Confirmation - Day of Month\":\"Con_Day_Mon\", \"Confirmation - Weekday (Mo = 1)\": \"Con_Weekday\",\"Confirmation - Time\": \"Con_Time\", \n",
        "    \"Arrival at Pickup - Day of Month\": \"Arr_Pic_Mon\", \"Arrival at Pickup - Weekday (Mo = 1)\": \"Arr_Pic_Weekday\", \n",
        "                \"Arrival at Pickup - Time\": \"Arr_Pic_Time\", \"Platform Type\": \"Platform_Type\",\n",
        "     \"Pickup - Day of Month\": \"Pickup_Mon\", \"Pickup - Weekday (Mo = 1)\": \"Pickup_Weekday\",           \n",
        "    \"Pickup - Time\": \"Pickup_Time\",  \"Distance (KM)\": \"Distance(km)\",\n",
        "    \"Precipitation in millimeters\": \"Precipitation(mm)\", \"Pickup Lat\": \"Pickup_Lat\", \"Pickup Long\": \"Pickup_Lon\", \n",
        "    \"Destination Lat\": \"Destination_Lat\", \"Destination Long\":\"Destination_Lon\", \"Rider Id\": \"Rider_Id\",\n",
        "                            \"Time from Pickup to Arrival\": \"Time_Pic_Arr\"\n",
        "                           }\n",
        "combined_df = combined_df.rename(columns=new_names)\n",
        "combined_df.columns"
      ],
      "execution_count": 31,
      "outputs": [
        {
          "output_type": "execute_result",
          "data": {
            "text/plain": [
              "Index(['Order_No', 'User_Id', 'Vehicle_Type', 'Platform_Type',\n",
              "       'Personal_Business', 'Pla_Mon', 'Pla_Weekday', 'Pla_Time',\n",
              "       'Con_Day_Mon', 'Con_Weekday', 'Con_Time', 'Arr_Pic_Mon',\n",
              "       'Arr_Pic_Weekday', 'Arr_Pic_Time', 'Pickup_Mon', 'Pickup_Weekday',\n",
              "       'Pickup_Time', 'Distance(km)', 'Temperature', 'Precipitation(mm)',\n",
              "       'Pickup_Lat', 'Pickup_Lon', 'Destination_Lat', 'Destination_Lon',\n",
              "       'Rider_Id', 'Time_Pic_Arr'],\n",
              "      dtype='object')"
            ]
          },
          "metadata": {
            "tags": []
          },
          "execution_count": 31
        }
      ]
    },
    {
      "cell_type": "code",
      "metadata": {
        "id": "Usql6wTTx5CI",
        "colab_type": "code",
        "colab": {
          "base_uri": "https://localhost:8080/",
          "height": 141
        },
        "outputId": "3dd087d3-7341-48ff-eabf-bc2f4c6dca4d"
      },
      "source": [
        "#Convert Time from 12H to 24H\n",
        "def convert_to_24hrs(fulldf):\n",
        "    for col in fulldf.columns:\n",
        "        if col.endswith(\"Time\"):\n",
        "            fulldf[col] = pd.to_datetime(fulldf[col], format='%H:%M:%S %p').dt.strftime(\"%H:%M:%S\")\n",
        "    return fulldf\n",
        "\n",
        "combined_df = convert_to_24hrs(combined_df)\n",
        "\n",
        "combined_df[['Pla_Time', 'Con_Time' , 'Arr_Pic_Time', 'Pickup_Time']][3:6]"
      ],
      "execution_count": 32,
      "outputs": [
        {
          "output_type": "execute_result",
          "data": {
            "text/html": [
              "<div>\n",
              "<style scoped>\n",
              "    .dataframe tbody tr th:only-of-type {\n",
              "        vertical-align: middle;\n",
              "    }\n",
              "\n",
              "    .dataframe tbody tr th {\n",
              "        vertical-align: top;\n",
              "    }\n",
              "\n",
              "    .dataframe thead th {\n",
              "        text-align: right;\n",
              "    }\n",
              "</style>\n",
              "<table border=\"1\" class=\"dataframe\">\n",
              "  <thead>\n",
              "    <tr style=\"text-align: right;\">\n",
              "      <th></th>\n",
              "      <th>Pla_Time</th>\n",
              "      <th>Con_Time</th>\n",
              "      <th>Arr_Pic_Time</th>\n",
              "      <th>Pickup_Time</th>\n",
              "    </tr>\n",
              "  </thead>\n",
              "  <tbody>\n",
              "    <tr>\n",
              "      <th>3</th>\n",
              "      <td>09:25:34</td>\n",
              "      <td>09:26:05</td>\n",
              "      <td>09:37:56</td>\n",
              "      <td>09:43:06</td>\n",
              "    </tr>\n",
              "    <tr>\n",
              "      <th>4</th>\n",
              "      <td>09:55:18</td>\n",
              "      <td>09:56:18</td>\n",
              "      <td>10:03:53</td>\n",
              "      <td>10:05:23</td>\n",
              "    </tr>\n",
              "    <tr>\n",
              "      <th>5</th>\n",
              "      <td>03:07:35</td>\n",
              "      <td>03:08:57</td>\n",
              "      <td>03:21:36</td>\n",
              "      <td>03:30:30</td>\n",
              "    </tr>\n",
              "  </tbody>\n",
              "</table>\n",
              "</div>"
            ],
            "text/plain": [
              "   Pla_Time  Con_Time Arr_Pic_Time Pickup_Time\n",
              "3  09:25:34  09:26:05     09:37:56    09:43:06\n",
              "4  09:55:18  09:56:18     10:03:53    10:05:23\n",
              "5  03:07:35  03:08:57     03:21:36    03:30:30"
            ]
          },
          "metadata": {
            "tags": []
          },
          "execution_count": 32
        }
      ]
    },
    {
      "cell_type": "code",
      "metadata": {
        "id": "-Q27F0piyIVi",
        "colab_type": "code",
        "colab": {
          "base_uri": "https://localhost:8080/",
          "height": 35
        },
        "outputId": "b6ced364-2c66-4720-9f39-39f59564b32a"
      },
      "source": [
        "month_cols = [col for col in combined_df.columns if col.endswith(\"Mon\")]\n",
        "weekday_cols = [col for col in combined_df.columns if col.endswith(\"Weekday\")]\n",
        "\n",
        "count = 0\n",
        "instances_of_different_days = [];\n",
        "for i, row in combined_df.iterrows():\n",
        "    if len(set(row[month_cols].values)) > 1:\n",
        "        print(count+1, end=\"\\r\")\n",
        "        count = count + 1\n",
        "        instances_of_different_days.append(list(row[month_cols].values))\n",
        "instances_of_different_days"
      ],
      "execution_count": 33,
      "outputs": [
        {
          "output_type": "stream",
          "text": [
            ""
          ],
          "name": "stdout"
        },
        {
          "output_type": "execute_result",
          "data": {
            "text/plain": [
              "[[17, 18, 18, 18], [11, 13, 13, 13]]"
            ]
          },
          "metadata": {
            "tags": []
          },
          "execution_count": 33
        }
      ]
    },
    {
      "cell_type": "code",
      "metadata": {
        "id": "p8Ia-23uyW5i",
        "colab_type": "code",
        "colab": {
          "base_uri": "https://localhost:8080/",
          "height": 161
        },
        "outputId": "c0a91835-9b9c-4ebf-bd9a-125a1be38297"
      },
      "source": [
        "#Day & Weekday values are repeated in all rows except 2, we retain only one\n",
        "#All Vehicle types are Bikes, Vehicle Type is not necessary.\n",
        "\n",
        "combined_df['Day_of_Month'] = combined_df[month_cols[0]]\n",
        "combined_df['Day_of_Week'] = combined_df[weekday_cols[0]]\n",
        "\n",
        "combined_df.drop(month_cols+weekday_cols, axis=1, inplace=True)\n",
        "combined_df.drop('Vehicle_Type', axis=1, inplace=True)\n",
        "\n",
        "combined_df.head(3)"
      ],
      "execution_count": 24,
      "outputs": [
        {
          "output_type": "execute_result",
          "data": {
            "text/html": [
              "<div>\n",
              "<style scoped>\n",
              "    .dataframe tbody tr th:only-of-type {\n",
              "        vertical-align: middle;\n",
              "    }\n",
              "\n",
              "    .dataframe tbody tr th {\n",
              "        vertical-align: top;\n",
              "    }\n",
              "\n",
              "    .dataframe thead th {\n",
              "        text-align: right;\n",
              "    }\n",
              "</style>\n",
              "<table border=\"1\" class=\"dataframe\">\n",
              "  <thead>\n",
              "    <tr style=\"text-align: right;\">\n",
              "      <th></th>\n",
              "      <th>Order_No</th>\n",
              "      <th>User_Id</th>\n",
              "      <th>Platform_Type</th>\n",
              "      <th>Personal_Business</th>\n",
              "      <th>Pla_Time</th>\n",
              "      <th>Con_Time</th>\n",
              "      <th>Arr_Pic_Time</th>\n",
              "      <th>Pickup_Time</th>\n",
              "      <th>Distance(km)</th>\n",
              "      <th>Temperature</th>\n",
              "      <th>Precipitation(mm)</th>\n",
              "      <th>Pickup_Lat</th>\n",
              "      <th>Pickup_Lon</th>\n",
              "      <th>Destination_Lat</th>\n",
              "      <th>Destination_Lon</th>\n",
              "      <th>Rider_Id</th>\n",
              "      <th>Time_Pic_Arr</th>\n",
              "      <th>Day_of_Month</th>\n",
              "      <th>Day_of_Week</th>\n",
              "    </tr>\n",
              "  </thead>\n",
              "  <tbody>\n",
              "    <tr>\n",
              "      <th>0</th>\n",
              "      <td>Order_No_4211</td>\n",
              "      <td>User_Id_633</td>\n",
              "      <td>3</td>\n",
              "      <td>Business</td>\n",
              "      <td>09:35:46</td>\n",
              "      <td>09:40:10</td>\n",
              "      <td>10:04:47</td>\n",
              "      <td>10:27:30</td>\n",
              "      <td>4</td>\n",
              "      <td>20.4</td>\n",
              "      <td>NaN</td>\n",
              "      <td>-1.317755</td>\n",
              "      <td>36.830370</td>\n",
              "      <td>-1.300406</td>\n",
              "      <td>36.829741</td>\n",
              "      <td>Rider_Id_432</td>\n",
              "      <td>745.0</td>\n",
              "      <td>9</td>\n",
              "      <td>5</td>\n",
              "    </tr>\n",
              "    <tr>\n",
              "      <th>1</th>\n",
              "      <td>Order_No_25375</td>\n",
              "      <td>User_Id_2285</td>\n",
              "      <td>3</td>\n",
              "      <td>Personal</td>\n",
              "      <td>11:16:16</td>\n",
              "      <td>11:23:21</td>\n",
              "      <td>11:40:22</td>\n",
              "      <td>11:44:09</td>\n",
              "      <td>16</td>\n",
              "      <td>26.4</td>\n",
              "      <td>NaN</td>\n",
              "      <td>-1.351453</td>\n",
              "      <td>36.899315</td>\n",
              "      <td>-1.295004</td>\n",
              "      <td>36.814358</td>\n",
              "      <td>Rider_Id_856</td>\n",
              "      <td>1993.0</td>\n",
              "      <td>12</td>\n",
              "      <td>5</td>\n",
              "    </tr>\n",
              "    <tr>\n",
              "      <th>2</th>\n",
              "      <td>Order_No_1899</td>\n",
              "      <td>User_Id_265</td>\n",
              "      <td>3</td>\n",
              "      <td>Business</td>\n",
              "      <td>12:39:25</td>\n",
              "      <td>12:42:44</td>\n",
              "      <td>12:49:34</td>\n",
              "      <td>12:53:03</td>\n",
              "      <td>3</td>\n",
              "      <td>NaN</td>\n",
              "      <td>NaN</td>\n",
              "      <td>-1.308284</td>\n",
              "      <td>36.843419</td>\n",
              "      <td>-1.300921</td>\n",
              "      <td>36.828195</td>\n",
              "      <td>Rider_Id_155</td>\n",
              "      <td>455.0</td>\n",
              "      <td>30</td>\n",
              "      <td>2</td>\n",
              "    </tr>\n",
              "  </tbody>\n",
              "</table>\n",
              "</div>"
            ],
            "text/plain": [
              "         Order_No       User_Id  ...  Day_of_Month Day_of_Week\n",
              "0   Order_No_4211   User_Id_633  ...             9           5\n",
              "1  Order_No_25375  User_Id_2285  ...            12           5\n",
              "2   Order_No_1899   User_Id_265  ...            30           2\n",
              "\n",
              "[3 rows x 19 columns]"
            ]
          },
          "metadata": {
            "tags": []
          },
          "execution_count": 24
        }
      ]
    },
    {
      "cell_type": "code",
      "metadata": {
        "id": "pdyFk9_8ydd5",
        "colab_type": "code",
        "colab": {}
      },
      "source": [
        "combined_df['Temperature'] = combined_df['Temperature'].fillna(combined_df['Temperature'].mean())\n",
        "combined_df['Precipitation(mm)'].fillna(combined_df['Precipitation(mm)'].mean(), inplace=True)"
      ],
      "execution_count": 34,
      "outputs": []
    },
    {
      "cell_type": "code",
      "metadata": {
        "id": "JpkhW624yk4V",
        "colab_type": "code",
        "colab": {
          "base_uri": "https://localhost:8080/",
          "height": 161
        },
        "outputId": "5305b1ba-ce94-46ad-8776-81d60dde7525"
      },
      "source": [
        "numeric_cols = []\n",
        "object_cols = []\n",
        "time_cols = []\n",
        "for k, v in combined_df.dtypes.items():\n",
        "    if (v != object):\n",
        "        if (k != \"Time_Pic_Arr\"):\n",
        "            numeric_cols.append(k)\n",
        "    elif k.endswith(\"Time\"):\n",
        "        time_cols.append(k)\n",
        "    else:\n",
        "        object_cols.append(k)\n",
        "combined_df[numeric_cols].head(3) "
      ],
      "execution_count": 35,
      "outputs": [
        {
          "output_type": "execute_result",
          "data": {
            "text/html": [
              "<div>\n",
              "<style scoped>\n",
              "    .dataframe tbody tr th:only-of-type {\n",
              "        vertical-align: middle;\n",
              "    }\n",
              "\n",
              "    .dataframe tbody tr th {\n",
              "        vertical-align: top;\n",
              "    }\n",
              "\n",
              "    .dataframe thead th {\n",
              "        text-align: right;\n",
              "    }\n",
              "</style>\n",
              "<table border=\"1\" class=\"dataframe\">\n",
              "  <thead>\n",
              "    <tr style=\"text-align: right;\">\n",
              "      <th></th>\n",
              "      <th>Platform_Type</th>\n",
              "      <th>Pla_Mon</th>\n",
              "      <th>Pla_Weekday</th>\n",
              "      <th>Con_Day_Mon</th>\n",
              "      <th>Con_Weekday</th>\n",
              "      <th>Arr_Pic_Mon</th>\n",
              "      <th>Arr_Pic_Weekday</th>\n",
              "      <th>Pickup_Mon</th>\n",
              "      <th>Pickup_Weekday</th>\n",
              "      <th>Distance(km)</th>\n",
              "      <th>Temperature</th>\n",
              "      <th>Precipitation(mm)</th>\n",
              "      <th>Pickup_Lat</th>\n",
              "      <th>Pickup_Lon</th>\n",
              "      <th>Destination_Lat</th>\n",
              "      <th>Destination_Lon</th>\n",
              "    </tr>\n",
              "  </thead>\n",
              "  <tbody>\n",
              "    <tr>\n",
              "      <th>0</th>\n",
              "      <td>3</td>\n",
              "      <td>9</td>\n",
              "      <td>5</td>\n",
              "      <td>9</td>\n",
              "      <td>5</td>\n",
              "      <td>9</td>\n",
              "      <td>5</td>\n",
              "      <td>9</td>\n",
              "      <td>5</td>\n",
              "      <td>4</td>\n",
              "      <td>20.400000</td>\n",
              "      <td>7.573502</td>\n",
              "      <td>-1.317755</td>\n",
              "      <td>36.830370</td>\n",
              "      <td>-1.300406</td>\n",
              "      <td>36.829741</td>\n",
              "    </tr>\n",
              "    <tr>\n",
              "      <th>1</th>\n",
              "      <td>3</td>\n",
              "      <td>12</td>\n",
              "      <td>5</td>\n",
              "      <td>12</td>\n",
              "      <td>5</td>\n",
              "      <td>12</td>\n",
              "      <td>5</td>\n",
              "      <td>12</td>\n",
              "      <td>5</td>\n",
              "      <td>16</td>\n",
              "      <td>26.400000</td>\n",
              "      <td>7.573502</td>\n",
              "      <td>-1.351453</td>\n",
              "      <td>36.899315</td>\n",
              "      <td>-1.295004</td>\n",
              "      <td>36.814358</td>\n",
              "    </tr>\n",
              "    <tr>\n",
              "      <th>2</th>\n",
              "      <td>3</td>\n",
              "      <td>30</td>\n",
              "      <td>2</td>\n",
              "      <td>30</td>\n",
              "      <td>2</td>\n",
              "      <td>30</td>\n",
              "      <td>2</td>\n",
              "      <td>30</td>\n",
              "      <td>2</td>\n",
              "      <td>3</td>\n",
              "      <td>23.255689</td>\n",
              "      <td>7.573502</td>\n",
              "      <td>-1.308284</td>\n",
              "      <td>36.843419</td>\n",
              "      <td>-1.300921</td>\n",
              "      <td>36.828195</td>\n",
              "    </tr>\n",
              "  </tbody>\n",
              "</table>\n",
              "</div>"
            ],
            "text/plain": [
              "   Platform_Type  Pla_Mon  ...  Destination_Lat  Destination_Lon\n",
              "0              3        9  ...        -1.300406        36.829741\n",
              "1              3       12  ...        -1.295004        36.814358\n",
              "2              3       30  ...        -1.300921        36.828195\n",
              "\n",
              "[3 rows x 16 columns]"
            ]
          },
          "metadata": {
            "tags": []
          },
          "execution_count": 35
        }
      ]
    },
    {
      "cell_type": "code",
      "metadata": {
        "id": "7E_GWW3aypuq",
        "colab_type": "code",
        "colab": {
          "base_uri": "https://localhost:8080/",
          "height": 141
        },
        "outputId": "c1ee7cd5-3d64-4293-85e2-29e47e4f6ca8"
      },
      "source": [
        "combined_df[time_cols].head(3)"
      ],
      "execution_count": 36,
      "outputs": [
        {
          "output_type": "execute_result",
          "data": {
            "text/html": [
              "<div>\n",
              "<style scoped>\n",
              "    .dataframe tbody tr th:only-of-type {\n",
              "        vertical-align: middle;\n",
              "    }\n",
              "\n",
              "    .dataframe tbody tr th {\n",
              "        vertical-align: top;\n",
              "    }\n",
              "\n",
              "    .dataframe thead th {\n",
              "        text-align: right;\n",
              "    }\n",
              "</style>\n",
              "<table border=\"1\" class=\"dataframe\">\n",
              "  <thead>\n",
              "    <tr style=\"text-align: right;\">\n",
              "      <th></th>\n",
              "      <th>Pla_Time</th>\n",
              "      <th>Con_Time</th>\n",
              "      <th>Arr_Pic_Time</th>\n",
              "      <th>Pickup_Time</th>\n",
              "    </tr>\n",
              "  </thead>\n",
              "  <tbody>\n",
              "    <tr>\n",
              "      <th>0</th>\n",
              "      <td>09:35:46</td>\n",
              "      <td>09:40:10</td>\n",
              "      <td>10:04:47</td>\n",
              "      <td>10:27:30</td>\n",
              "    </tr>\n",
              "    <tr>\n",
              "      <th>1</th>\n",
              "      <td>11:16:16</td>\n",
              "      <td>11:23:21</td>\n",
              "      <td>11:40:22</td>\n",
              "      <td>11:44:09</td>\n",
              "    </tr>\n",
              "    <tr>\n",
              "      <th>2</th>\n",
              "      <td>12:39:25</td>\n",
              "      <td>12:42:44</td>\n",
              "      <td>12:49:34</td>\n",
              "      <td>12:53:03</td>\n",
              "    </tr>\n",
              "  </tbody>\n",
              "</table>\n",
              "</div>"
            ],
            "text/plain": [
              "   Pla_Time  Con_Time Arr_Pic_Time Pickup_Time\n",
              "0  09:35:46  09:40:10     10:04:47    10:27:30\n",
              "1  11:16:16  11:23:21     11:40:22    11:44:09\n",
              "2  12:39:25  12:42:44     12:49:34    12:53:03"
            ]
          },
          "metadata": {
            "tags": []
          },
          "execution_count": 36
        }
      ]
    },
    {
      "cell_type": "code",
      "metadata": {
        "id": "y9CqOHX3yyL2",
        "colab_type": "code",
        "colab": {
          "base_uri": "https://localhost:8080/",
          "height": 69
        },
        "outputId": "ad64b818-df7f-4da5-fe2e-a6a0ab78557d"
      },
      "source": [
        "#Convert an object to numeric (encoding), try (OHE -1,0)\n",
        "\n",
        "le = LabelEncoder()\n",
        "le.fit(combined_df['Personal_Business'])\n",
        "combined_df['Personal_Business'] = le.transform(combined_df['Personal_Business'])\n",
        "combined_df['Personal_Business'][:2]"
      ],
      "execution_count": 37,
      "outputs": [
        {
          "output_type": "execute_result",
          "data": {
            "text/plain": [
              "0    0\n",
              "1    1\n",
              "Name: Personal_Business, dtype: int64"
            ]
          },
          "metadata": {
            "tags": []
          },
          "execution_count": 37
        }
      ]
    },
    {
      "cell_type": "code",
      "metadata": {
        "id": "2xaLPHzgy37E",
        "colab_type": "code",
        "colab": {
          "base_uri": "https://localhost:8080/",
          "height": 329
        },
        "outputId": "00217093-1f67-4055-c076-95842759a647"
      },
      "source": [
        "#Correlation between numeric features and the target variable\n",
        "corr_matrix = combined_df[:border][numeric_cols+['Time_Pic_Arr']].corr()\n",
        "print(corr_matrix[\"Time_Pic_Arr\"].sort_values(ascending=False))"
      ],
      "execution_count": 38,
      "outputs": [
        {
          "output_type": "stream",
          "text": [
            "Time_Pic_Arr         1.000000\n",
            "Distance(km)         0.580608\n",
            "Destination_Lon      0.070425\n",
            "Pickup_Lon           0.060285\n",
            "Con_Weekday          0.009744\n",
            "Arr_Pic_Weekday      0.009744\n",
            "Pickup_Weekday       0.009744\n",
            "Pla_Weekday          0.009693\n",
            "Temperature          0.005779\n",
            "Precipitation(mm)    0.003934\n",
            "Platform_Type       -0.003827\n",
            "Pickup_Mon          -0.014701\n",
            "Arr_Pic_Mon         -0.014701\n",
            "Con_Day_Mon         -0.014701\n",
            "Pla_Mon             -0.014710\n",
            "Pickup_Lat          -0.053823\n",
            "Destination_Lat     -0.061872\n",
            "Name: Time_Pic_Arr, dtype: float64\n"
          ],
          "name": "stdout"
        }
      ]
    },
    {
      "cell_type": "code",
      "metadata": {
        "id": "C2o9F83ry9jO",
        "colab_type": "code",
        "colab": {
          "base_uri": "https://localhost:8080/",
          "height": 222
        },
        "outputId": "7d88d4dd-8db4-46f0-bbe9-dc0842f9c4ff"
      },
      "source": [
        "features = numeric_cols + ['Personal_Business']\n",
        "\n",
        "data_df = combined_df[features]\n",
        "\n",
        "y = combined_df[:border]['Time_Pic_Arr']\n",
        "train = data_df[:border]\n",
        "test = data_df[border:]\n",
        "\n",
        "test.head()"
      ],
      "execution_count": 39,
      "outputs": [
        {
          "output_type": "execute_result",
          "data": {
            "text/html": [
              "<div>\n",
              "<style scoped>\n",
              "    .dataframe tbody tr th:only-of-type {\n",
              "        vertical-align: middle;\n",
              "    }\n",
              "\n",
              "    .dataframe tbody tr th {\n",
              "        vertical-align: top;\n",
              "    }\n",
              "\n",
              "    .dataframe thead th {\n",
              "        text-align: right;\n",
              "    }\n",
              "</style>\n",
              "<table border=\"1\" class=\"dataframe\">\n",
              "  <thead>\n",
              "    <tr style=\"text-align: right;\">\n",
              "      <th></th>\n",
              "      <th>Platform_Type</th>\n",
              "      <th>Pla_Mon</th>\n",
              "      <th>Pla_Weekday</th>\n",
              "      <th>Con_Day_Mon</th>\n",
              "      <th>Con_Weekday</th>\n",
              "      <th>Arr_Pic_Mon</th>\n",
              "      <th>Arr_Pic_Weekday</th>\n",
              "      <th>Pickup_Mon</th>\n",
              "      <th>Pickup_Weekday</th>\n",
              "      <th>Distance(km)</th>\n",
              "      <th>Temperature</th>\n",
              "      <th>Precipitation(mm)</th>\n",
              "      <th>Pickup_Lat</th>\n",
              "      <th>Pickup_Lon</th>\n",
              "      <th>Destination_Lat</th>\n",
              "      <th>Destination_Lon</th>\n",
              "      <th>Personal_Business</th>\n",
              "    </tr>\n",
              "  </thead>\n",
              "  <tbody>\n",
              "    <tr>\n",
              "      <th>21201</th>\n",
              "      <td>3</td>\n",
              "      <td>27</td>\n",
              "      <td>3</td>\n",
              "      <td>27</td>\n",
              "      <td>3</td>\n",
              "      <td>27</td>\n",
              "      <td>3</td>\n",
              "      <td>27</td>\n",
              "      <td>3</td>\n",
              "      <td>8</td>\n",
              "      <td>23.255689</td>\n",
              "      <td>7.573502</td>\n",
              "      <td>-1.333275</td>\n",
              "      <td>36.870815</td>\n",
              "      <td>-1.305249</td>\n",
              "      <td>36.822390</td>\n",
              "      <td>0</td>\n",
              "    </tr>\n",
              "    <tr>\n",
              "      <th>21202</th>\n",
              "      <td>3</td>\n",
              "      <td>17</td>\n",
              "      <td>5</td>\n",
              "      <td>17</td>\n",
              "      <td>5</td>\n",
              "      <td>17</td>\n",
              "      <td>5</td>\n",
              "      <td>17</td>\n",
              "      <td>5</td>\n",
              "      <td>5</td>\n",
              "      <td>23.255689</td>\n",
              "      <td>7.573502</td>\n",
              "      <td>-1.272639</td>\n",
              "      <td>36.794723</td>\n",
              "      <td>-1.277007</td>\n",
              "      <td>36.823907</td>\n",
              "      <td>0</td>\n",
              "    </tr>\n",
              "    <tr>\n",
              "      <th>21203</th>\n",
              "      <td>3</td>\n",
              "      <td>27</td>\n",
              "      <td>4</td>\n",
              "      <td>27</td>\n",
              "      <td>4</td>\n",
              "      <td>27</td>\n",
              "      <td>4</td>\n",
              "      <td>27</td>\n",
              "      <td>4</td>\n",
              "      <td>5</td>\n",
              "      <td>22.800000</td>\n",
              "      <td>7.573502</td>\n",
              "      <td>-1.290894</td>\n",
              "      <td>36.822971</td>\n",
              "      <td>-1.276574</td>\n",
              "      <td>36.851365</td>\n",
              "      <td>0</td>\n",
              "    </tr>\n",
              "    <tr>\n",
              "      <th>21204</th>\n",
              "      <td>3</td>\n",
              "      <td>17</td>\n",
              "      <td>1</td>\n",
              "      <td>17</td>\n",
              "      <td>1</td>\n",
              "      <td>17</td>\n",
              "      <td>1</td>\n",
              "      <td>17</td>\n",
              "      <td>1</td>\n",
              "      <td>5</td>\n",
              "      <td>24.500000</td>\n",
              "      <td>7.573502</td>\n",
              "      <td>-1.290503</td>\n",
              "      <td>36.809646</td>\n",
              "      <td>-1.303382</td>\n",
              "      <td>36.790658</td>\n",
              "      <td>0</td>\n",
              "    </tr>\n",
              "    <tr>\n",
              "      <th>21205</th>\n",
              "      <td>3</td>\n",
              "      <td>11</td>\n",
              "      <td>2</td>\n",
              "      <td>11</td>\n",
              "      <td>2</td>\n",
              "      <td>11</td>\n",
              "      <td>2</td>\n",
              "      <td>11</td>\n",
              "      <td>2</td>\n",
              "      <td>6</td>\n",
              "      <td>24.400000</td>\n",
              "      <td>7.573502</td>\n",
              "      <td>-1.281081</td>\n",
              "      <td>36.814423</td>\n",
              "      <td>-1.266467</td>\n",
              "      <td>36.792161</td>\n",
              "      <td>0</td>\n",
              "    </tr>\n",
              "  </tbody>\n",
              "</table>\n",
              "</div>"
            ],
            "text/plain": [
              "       Platform_Type  Pla_Mon  ...  Destination_Lon  Personal_Business\n",
              "21201              3       27  ...        36.822390                  0\n",
              "21202              3       17  ...        36.823907                  0\n",
              "21203              3       27  ...        36.851365                  0\n",
              "21204              3       17  ...        36.790658                  0\n",
              "21205              3       11  ...        36.792161                  0\n",
              "\n",
              "[5 rows x 17 columns]"
            ]
          },
          "metadata": {
            "tags": []
          },
          "execution_count": 39
        }
      ]
    },
    {
      "cell_type": "code",
      "metadata": {
        "id": "cTQC22D4zEiY",
        "colab_type": "code",
        "colab": {}
      },
      "source": [
        "for df in [Train_df, Test_df]:\n",
        "    df.drop(['Arrival at Pickup - Weekday (Mo = 1)', 'Confirmation - Weekday (Mo = 1)'], axis = 1, inplace = True)\n",
        "    df.drop(['Arrival at Pickup - Day of Month', 'Confirmation - Day of Month'], axis = 1, inplace = True)"
      ],
      "execution_count": 40,
      "outputs": []
    },
    {
      "cell_type": "code",
      "metadata": {
        "id": "k_Aw4r31zPgq",
        "colab_type": "code",
        "colab": {
          "base_uri": "https://localhost:8080/",
          "height": 35
        },
        "outputId": "7bc92da5-901f-4f80-b636-a19f9c4bd261"
      },
      "source": [
        "X_train, X_test, y_train, y_test = train_test_split(train, y, test_size=0.2, shuffle=True)\n",
        "print(X_train.shape, X_test.shape, y_train.shape, y_test.shape)"
      ],
      "execution_count": 41,
      "outputs": [
        {
          "output_type": "stream",
          "text": [
            "(16960, 17) (4241, 17) (16960,) (4241,)\n"
          ],
          "name": "stdout"
        }
      ]
    },
    {
      "cell_type": "code",
      "metadata": {
        "id": "ZEVRUeJUzTYV",
        "colab_type": "code",
        "colab": {}
      },
      "source": [
        "def test_model(model, y_test, X_test):\n",
        "    predictions = model.predict(X_test.reshape(-1, 1))\n",
        "    predictions = predictions.reshape(-1)\n",
        "    rmsle = np.sqrt(np.mean((np.log(1+predictions) - np.log(1+y_test))**2))\n",
        "    return np.round(rmsle, 3)"
      ],
      "execution_count": 42,
      "outputs": []
    },
    {
      "cell_type": "code",
      "metadata": {
        "id": "T0a5kHkMzZYZ",
        "colab_type": "code",
        "colab": {
          "base_uri": "https://localhost:8080/",
          "height": 35
        },
        "outputId": "578dc300-b456-4808-df9e-13c043cd294a"
      },
      "source": [
        "regressor = LinearRegression()  \n",
        "regressor.fit(X_train, y_train)"
      ],
      "execution_count": 43,
      "outputs": [
        {
          "output_type": "execute_result",
          "data": {
            "text/plain": [
              "LinearRegression(copy_X=True, fit_intercept=True, n_jobs=None, normalize=False)"
            ]
          },
          "metadata": {
            "tags": []
          },
          "execution_count": 43
        }
      ]
    },
    {
      "cell_type": "code",
      "metadata": {
        "id": "gOJSGJZI1VTm",
        "colab_type": "code",
        "colab": {
          "base_uri": "https://localhost:8080/",
          "height": 104
        },
        "outputId": "4cef0d34-c210-4a6d-c70f-579d668e8527"
      },
      "source": [
        "rs = 3\n",
        "kfold = KFold(n_splits=10, random_state=rs, shuffle=True)\n",
        "\n",
        "regressors = []\n",
        "regressors.append(SVR())\n",
        "regressors.append(GradientBoostingRegressor(random_state=rs))\n",
        "regressors.append(ExtraTreesRegressor(n_estimators=rs))\n",
        "regressors.append(RandomForestRegressor(random_state=rs))\n",
        "\n",
        "cv_results = []\n",
        "for regressor in regressors:     #scores to be minimised are negated (neg)\n",
        "    cv_results.append(np.sqrt(abs(cross_val_score(regressor, X_train, y=y_train, scoring='neg_mean_squared_error', cv=kfold))))\n",
        "\n",
        "cv_means = []\n",
        "cv_stds = []\n",
        "for cv_result in cv_results:\n",
        "    cv_means.append(cv_result.mean())\n",
        "    cv_stds.append(cv_result.std())\n",
        "    \n",
        "cv_res = pd.DataFrame({ \n",
        "    \"Algorithm\": [\"SVR\", \"GBR\", \"EXR\", \"RFR\"],\n",
        "    \"CrossValMeans\": cv_means, \"CrossValErrors\": cv_stds\n",
        "                       })\n",
        "cv_res = cv_res.sort_values(\"CrossValMeans\", ascending=True)\n",
        "print(cv_res)"
      ],
      "execution_count": 44,
      "outputs": [
        {
          "output_type": "stream",
          "text": [
            "  Algorithm  CrossValMeans  CrossValErrors\n",
            "1       GBR     781.344527       14.927407\n",
            "3       RFR     803.526323       13.391408\n",
            "0       SVR     934.182015       17.032906\n",
            "2       EXR     947.417393       14.933516\n"
          ],
          "name": "stdout"
        }
      ]
    },
    {
      "cell_type": "code",
      "metadata": {
        "id": "6LzKnFP04jdu",
        "colab_type": "code",
        "colab": {
          "base_uri": "https://localhost:8080/",
          "height": 55
        },
        "outputId": "378152ea-1939-472e-8eef-289ac9b583cb"
      },
      "source": [
        "params = {\n",
        "    'n_estimators':[75], # [75, 95],\n",
        "    'num_leaves': [15], #[12,15, 17],\n",
        "    'reg_alpha': [0.02], #[0.02, 0.05],\n",
        "    'min_data_in_leaf': [300],  #[250, 280, 300]\n",
        "    'learning_rate': [0.1], #[0.05, 0.1, 0.25],\n",
        "    'objective': ['regression'] #['regression', None]\n",
        "    }\n",
        "\n",
        "lsearch = GridSearchCV(estimator = lgbm.LGBMRegressor(random_state=rs), cv=kfold,scoring='neg_mean_squared_error', param_grid=params)\n",
        "lgbm = lsearch.fit(X_train, y_train)\n",
        "\n",
        "l_params = lgbm.best_params_\n",
        "l_score = np.sqrt(abs(lgbm.best_score_))\n",
        "print(lgbm.best_params_, np.sqrt(abs(lgbm.best_score_)))"
      ],
      "execution_count": 45,
      "outputs": [
        {
          "output_type": "stream",
          "text": [
            "{'learning_rate': 0.1, 'min_data_in_leaf': 300, 'n_estimators': 75, 'num_leaves': 15, 'objective': 'regression', 'reg_alpha': 0.02} 776.310543663503\n"
          ],
          "name": "stdout"
        }
      ]
    },
    {
      "cell_type": "code",
      "metadata": {
        "id": "XxokDCFx6ItI",
        "colab_type": "code",
        "colab": {
          "base_uri": "https://localhost:8080/",
          "height": 35
        },
        "outputId": "f7558952-4a2f-40e9-dc16-f14d84b31fa3"
      },
      "source": [
        "RFC = RandomForestRegressor(random_state=rs)\n",
        "rf_param = {\"max_depth\":[None], \"max_features\":[3], \"min_samples_split\":[10],\n",
        "           \"min_samples_leaf\": [3], \"n_estimators\":[300]}\n",
        "rsearch = GridSearchCV(RFC, cv=kfold, scoring='neg_mean_squared_error',param_grid=rf_param)\n",
        "rfm = rsearch.fit(X_train, y_train)\n",
        "\n",
        "r_score = np.sqrt(abs(rfm.best_score_))\n",
        "r_params = rfm.best_params_\n",
        "print(r_score, r_params)"
      ],
      "execution_count": 46,
      "outputs": [
        {
          "output_type": "stream",
          "text": [
            "784.346530525453 {'max_depth': None, 'max_features': 3, 'min_samples_leaf': 3, 'min_samples_split': 10, 'n_estimators': 300}\n"
          ],
          "name": "stdout"
        }
      ]
    },
    {
      "cell_type": "code",
      "metadata": {
        "id": "fAgj7nbe6ogE",
        "colab_type": "code",
        "colab": {
          "base_uri": "https://localhost:8080/",
          "height": 1000
        },
        "outputId": "94b53217-fbd4-44cd-f05c-3a4fac779f52"
      },
      "source": [
        "lgb_train = lgb.Dataset(X_train, y_train)\n",
        "lgb_eval = lgb.Dataset(X_test, y_test, reference=lgb_train)\n",
        "\n",
        "lparams = {\n",
        "           'learning_rate': 0.1, 'min_data_in_leaf': 300, \n",
        "           'n_estimators': 75, 'num_leaves': 20, 'random_state':rs,\n",
        "           'objective': 'regression', 'reg_alpha': 0.02,\n",
        "          'feature_fraction': 0.9, 'bagging_fraction':0.9}\n",
        "\n",
        "\n",
        "lgbm = lgb.train(lparams, lgb_train, valid_sets=lgb_eval, num_boost_round=20, early_stopping_rounds=20)\n",
        "\n",
        "lpred = lgbm.predict(X_test, num_iteration=lgbm.best_iteration)\n",
        "\n",
        "print(\"The RMSE of prediction is \", mean_squared_error(y_test, lpred)**0.5)"
      ],
      "execution_count": 47,
      "outputs": [
        {
          "output_type": "stream",
          "text": [
            "[1]\tvalid_0's l2: 905931\n",
            "Training until validation scores don't improve for 20 rounds.\n",
            "[2]\tvalid_0's l2: 852481\n",
            "[3]\tvalid_0's l2: 809339\n",
            "[4]\tvalid_0's l2: 773485\n",
            "[5]\tvalid_0's l2: 744517\n",
            "[6]\tvalid_0's l2: 720284\n",
            "[7]\tvalid_0's l2: 700844\n",
            "[8]\tvalid_0's l2: 685022\n",
            "[9]\tvalid_0's l2: 672301\n",
            "[10]\tvalid_0's l2: 661575\n",
            "[11]\tvalid_0's l2: 652552\n",
            "[12]\tvalid_0's l2: 644390\n",
            "[13]\tvalid_0's l2: 639515\n",
            "[14]\tvalid_0's l2: 633909\n",
            "[15]\tvalid_0's l2: 629554\n",
            "[16]\tvalid_0's l2: 625403\n",
            "[17]\tvalid_0's l2: 622260\n",
            "[18]\tvalid_0's l2: 619610\n",
            "[19]\tvalid_0's l2: 616797\n",
            "[20]\tvalid_0's l2: 614526\n",
            "[21]\tvalid_0's l2: 612632\n",
            "[22]\tvalid_0's l2: 611169\n",
            "[23]\tvalid_0's l2: 609560\n",
            "[24]\tvalid_0's l2: 607941\n",
            "[25]\tvalid_0's l2: 606529\n",
            "[26]\tvalid_0's l2: 605255\n",
            "[27]\tvalid_0's l2: 604044\n",
            "[28]\tvalid_0's l2: 603300\n",
            "[29]\tvalid_0's l2: 602462\n",
            "[30]\tvalid_0's l2: 601917\n",
            "[31]\tvalid_0's l2: 600906\n",
            "[32]\tvalid_0's l2: 600564\n",
            "[33]\tvalid_0's l2: 600051\n",
            "[34]\tvalid_0's l2: 599665\n",
            "[35]\tvalid_0's l2: 599280\n",
            "[36]\tvalid_0's l2: 598510\n",
            "[37]\tvalid_0's l2: 598544\n",
            "[38]\tvalid_0's l2: 598079\n",
            "[39]\tvalid_0's l2: 597239\n",
            "[40]\tvalid_0's l2: 596793\n",
            "[41]\tvalid_0's l2: 596271\n",
            "[42]\tvalid_0's l2: 595964\n",
            "[43]\tvalid_0's l2: 595775\n",
            "[44]\tvalid_0's l2: 595194\n",
            "[45]\tvalid_0's l2: 594987\n",
            "[46]\tvalid_0's l2: 594728\n",
            "[47]\tvalid_0's l2: 594760\n",
            "[48]\tvalid_0's l2: 594472\n",
            "[49]\tvalid_0's l2: 594294\n",
            "[50]\tvalid_0's l2: 594105\n",
            "[51]\tvalid_0's l2: 594057\n",
            "[52]\tvalid_0's l2: 594034\n",
            "[53]\tvalid_0's l2: 593922\n",
            "[54]\tvalid_0's l2: 593757\n",
            "[55]\tvalid_0's l2: 593740\n",
            "[56]\tvalid_0's l2: 593538\n",
            "[57]\tvalid_0's l2: 593493\n",
            "[58]\tvalid_0's l2: 593396\n",
            "[59]\tvalid_0's l2: 593635\n",
            "[60]\tvalid_0's l2: 593458\n",
            "[61]\tvalid_0's l2: 593611\n",
            "[62]\tvalid_0's l2: 593529\n",
            "[63]\tvalid_0's l2: 593377\n",
            "[64]\tvalid_0's l2: 593150\n",
            "[65]\tvalid_0's l2: 593015\n",
            "[66]\tvalid_0's l2: 592903\n",
            "[67]\tvalid_0's l2: 592805\n",
            "[68]\tvalid_0's l2: 592706\n",
            "[69]\tvalid_0's l2: 592644\n",
            "[70]\tvalid_0's l2: 592559\n",
            "[71]\tvalid_0's l2: 592744\n",
            "[72]\tvalid_0's l2: 592730\n",
            "[73]\tvalid_0's l2: 592782\n",
            "[74]\tvalid_0's l2: 592593\n",
            "[75]\tvalid_0's l2: 592557\n",
            "Did not meet early stopping. Best iteration is:\n",
            "[75]\tvalid_0's l2: 592557\n",
            "The RMSE of prediction is  769.7773567895968\n"
          ],
          "name": "stdout"
        }
      ]
    },
    {
      "cell_type": "code",
      "metadata": {
        "id": "tN0yExNiF9W-",
        "colab_type": "code",
        "colab": {
          "base_uri": "https://localhost:8080/",
          "height": 202
        },
        "outputId": "e2357f32-fa91-4578-e39d-6a9651eb27a0"
      },
      "source": [
        "lgbm_y = lgbm.predict(test, num_iteration=lgbm.best_iteration)\n",
        "lgbm_output = pd.DataFrame({\"Order No\":Test_df['Order No'], \n",
        "                           \"Time from Pickup to Arrival\": lgbm_y.astype(int) })\n",
        "lgbm_output.to_csv(\"‪BlankSamplezindi.csv\", index=False)\n",
        "lgbm_output.head()"
      ],
      "execution_count": 61,
      "outputs": [
        {
          "output_type": "execute_result",
          "data": {
            "text/html": [
              "<div>\n",
              "<style scoped>\n",
              "    .dataframe tbody tr th:only-of-type {\n",
              "        vertical-align: middle;\n",
              "    }\n",
              "\n",
              "    .dataframe tbody tr th {\n",
              "        vertical-align: top;\n",
              "    }\n",
              "\n",
              "    .dataframe thead th {\n",
              "        text-align: right;\n",
              "    }\n",
              "</style>\n",
              "<table border=\"1\" class=\"dataframe\">\n",
              "  <thead>\n",
              "    <tr style=\"text-align: right;\">\n",
              "      <th></th>\n",
              "      <th>Order No</th>\n",
              "      <th>Time from Pickup to Arrival</th>\n",
              "    </tr>\n",
              "  </thead>\n",
              "  <tbody>\n",
              "    <tr>\n",
              "      <th>0</th>\n",
              "      <td>Order_No_19248</td>\n",
              "      <td>1562</td>\n",
              "    </tr>\n",
              "    <tr>\n",
              "      <th>1</th>\n",
              "      <td>Order_No_12736</td>\n",
              "      <td>1223</td>\n",
              "    </tr>\n",
              "    <tr>\n",
              "      <th>2</th>\n",
              "      <td>Order_No_768</td>\n",
              "      <td>1456</td>\n",
              "    </tr>\n",
              "    <tr>\n",
              "      <th>3</th>\n",
              "      <td>Order_No_15332</td>\n",
              "      <td>1247</td>\n",
              "    </tr>\n",
              "    <tr>\n",
              "      <th>4</th>\n",
              "      <td>Order_No_21373</td>\n",
              "      <td>1296</td>\n",
              "    </tr>\n",
              "  </tbody>\n",
              "</table>\n",
              "</div>"
            ],
            "text/plain": [
              "         Order No  Time from Pickup to Arrival\n",
              "0  Order_No_19248                         1562\n",
              "1  Order_No_12736                         1223\n",
              "2    Order_No_768                         1456\n",
              "3  Order_No_15332                         1247\n",
              "4  Order_No_21373                         1296"
            ]
          },
          "metadata": {
            "tags": []
          },
          "execution_count": 61
        }
      ]
    },
    {
      "cell_type": "code",
      "metadata": {
        "id": "h5rsLTHd-i5p",
        "colab_type": "code",
        "colab": {
          "base_uri": "https://localhost:8080/",
          "height": 202
        },
        "outputId": "3a85cee9-0916-40de-e01b-ec2d0f5e22a8"
      },
      "source": [
        "list_1 = Test_df['Order No'].tolist()\n",
        "list_2 = lgbm_y\n",
        "data = {\"Order No\": list_1, \"Time from Pickup to Arrival\": list_2}\n",
        "\n",
        "df =pd.DataFrame(data)\n",
        "df.head()"
      ],
      "execution_count": 113,
      "outputs": [
        {
          "output_type": "execute_result",
          "data": {
            "text/html": [
              "<div>\n",
              "<style scoped>\n",
              "    .dataframe tbody tr th:only-of-type {\n",
              "        vertical-align: middle;\n",
              "    }\n",
              "\n",
              "    .dataframe tbody tr th {\n",
              "        vertical-align: top;\n",
              "    }\n",
              "\n",
              "    .dataframe thead th {\n",
              "        text-align: right;\n",
              "    }\n",
              "</style>\n",
              "<table border=\"1\" class=\"dataframe\">\n",
              "  <thead>\n",
              "    <tr style=\"text-align: right;\">\n",
              "      <th></th>\n",
              "      <th>Order No</th>\n",
              "      <th>Time from Pickup to Arrival</th>\n",
              "    </tr>\n",
              "  </thead>\n",
              "  <tbody>\n",
              "    <tr>\n",
              "      <th>0</th>\n",
              "      <td>Order_No_19248</td>\n",
              "      <td>1562.825515</td>\n",
              "    </tr>\n",
              "    <tr>\n",
              "      <th>1</th>\n",
              "      <td>Order_No_12736</td>\n",
              "      <td>1223.538580</td>\n",
              "    </tr>\n",
              "    <tr>\n",
              "      <th>2</th>\n",
              "      <td>Order_No_768</td>\n",
              "      <td>1456.695780</td>\n",
              "    </tr>\n",
              "    <tr>\n",
              "      <th>3</th>\n",
              "      <td>Order_No_15332</td>\n",
              "      <td>1247.310613</td>\n",
              "    </tr>\n",
              "    <tr>\n",
              "      <th>4</th>\n",
              "      <td>Order_No_21373</td>\n",
              "      <td>1296.465783</td>\n",
              "    </tr>\n",
              "  </tbody>\n",
              "</table>\n",
              "</div>"
            ],
            "text/plain": [
              "         Order No  Time from Pickup to Arrival\n",
              "0  Order_No_19248                  1562.825515\n",
              "1  Order_No_12736                  1223.538580\n",
              "2    Order_No_768                  1456.695780\n",
              "3  Order_No_15332                  1247.310613\n",
              "4  Order_No_21373                  1296.465783"
            ]
          },
          "metadata": {
            "tags": []
          },
          "execution_count": 113
        }
      ]
    },
    {
      "cell_type": "code",
      "metadata": {
        "id": "KFt7vmuyKMdB",
        "colab_type": "code",
        "colab": {}
      },
      "source": [
        "df.to_csv(r\"‪‪C:\\Users\\tulsi\\Documents\\BlankSamplezindi.csv\", index =False, header = True)"
      ],
      "execution_count": 116,
      "outputs": []
    }
  ]
}